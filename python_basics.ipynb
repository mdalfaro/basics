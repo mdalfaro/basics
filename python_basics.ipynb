{
 "cells": [
  {
   "cell_type": "markdown",
   "metadata": {},
   "source": [
    "# Python Cheat Sheet"
   ]
  },
  {
   "cell_type": "markdown",
   "metadata": {},
   "source": [
    "Some key concepts"
   ]
  },
  {
   "cell_type": "markdown",
   "metadata": {},
   "source": [
    "### Why use Jupyter Notebook?"
   ]
  },
  {
   "cell_type": "markdown",
   "metadata": {},
   "source": [
    "> *[N]otebooks combine the important interactive nature of the Python shell with the persistence of files. Because notebooks keep graphics and other output within the document containing the code, it's very easy to see what a program is doing.*\n",
    "\n",
    "-Jeremy Howard & Terrance Parr, *The Mechanics of Machine Learning*"
   ]
  },
  {
   "cell_type": "markdown",
   "metadata": {},
   "source": [
    "### Why not? "
   ]
  },
  {
   "cell_type": "markdown",
   "metadata": {},
   "source": [
    "* It's really easy to get disorganized. "
   ]
  },
  {
   "cell_type": "markdown",
   "metadata": {},
   "source": [
    "### Some Quick Notes on Jupyter Notebook"
   ]
  },
  {
   "cell_type": "markdown",
   "metadata": {},
   "source": [
    "**Getting Started** – Simply execute the following command from Terminal: *jupyter notebook*\n",
    "\n",
    "**Kernels** – The Jupyter notebook interacts with kernels, which are implementations of the Jupyter interactive computing protocol in any number of programming languages. Python’s Jupyter kernel uses the IPython system for its underlying behavior.\n",
    "\n",
    "**Object Introspection** – Typing a \"?\" after an object will display information about that object, just like in R. Below is an example. As you can see, the information will arise in a new window, not as output. "
   ]
  },
  {
   "cell_type": "code",
   "execution_count": 1,
   "metadata": {},
   "outputs": [
    {
     "data": {
      "text/plain": [
       "\u001b[0;31mType:\u001b[0m        list\n",
       "\u001b[0;31mString form:\u001b[0m [1, 2, 3]\n",
       "\u001b[0;31mLength:\u001b[0m      3\n",
       "\u001b[0;31mDocstring:\u001b[0m  \n",
       "list() -> new empty list\n",
       "list(iterable) -> new list initialized from iterable's items\n"
      ]
     },
     "metadata": {},
     "output_type": "display_data"
    }
   ],
   "source": [
    "x = [1, 2, 3]\n",
    "x?"
   ]
  },
  {
   "cell_type": "markdown",
   "metadata": {},
   "source": [
    "**Halt Code** – Press CONTROL-C\n",
    "\n",
    "**Keyboard Shortcuts** – Check out a list of all keyboard shortcuts by simply typing **h**\n",
    "\n",
    "**Magic commands** – iPython’s special commands (which are not built into Python itself) are known as\n",
    "“magic” commands. These are designed to facilitate common tasks and enable you to easily control the behavior of the IPython system. A magic command is any command prefixed by the percent symbol %. For example, you can check the execution time of any Python statement, such as a matrix multiplication, using the *%timeit* magic function. You can check out more information about magic commands by typing *%magic*"
   ]
  },
  {
   "cell_type": "code",
   "execution_count": 32,
   "metadata": {},
   "outputs": [],
   "source": [
    "%magic"
   ]
  },
  {
   "cell_type": "markdown",
   "metadata": {},
   "source": [
    "### Running programs"
   ]
  },
  {
   "cell_type": "markdown",
   "metadata": {},
   "source": [
    "Make sure that you are in the directory where the file is stored, or reference its link in the call function.\n",
    "\n",
    "**From terminal**, type `python test.py`  \n",
    "**From Python shell**, type `%run test.py`  \n",
    "**From Jupyter Notebook**, type `%run test.py`, just as above. Below is an example. "
   ]
  },
  {
   "cell_type": "code",
   "execution_count": 24,
   "metadata": {},
   "outputs": [
    {
     "name": "stdout",
     "output_type": "stream",
     "text": [
      "The file has run successfully. In this file, a & b are initialized & defined.\n"
     ]
    }
   ],
   "source": [
    "%run test.py"
   ]
  },
  {
   "cell_type": "code",
   "execution_count": 25,
   "metadata": {},
   "outputs": [
    {
     "name": "stdout",
     "output_type": "stream",
     "text": [
      "15 20\n"
     ]
    }
   ],
   "source": [
    "print(a, b)"
   ]
  },
  {
   "cell_type": "markdown",
   "metadata": {},
   "source": [
    "### Accessing Script Parameters (sys.argv)"
   ]
  },
  {
   "cell_type": "markdown",
   "metadata": {},
   "source": [
    "Firstly, in your Python file, you must `import sys`.  \n",
    "\n",
    "`sys.argv` is a list in Python, which contains the command-line arguments passed to the script. printing The file called below simply `imports sys` & calls `print(sys.argv)`. "
   ]
  },
  {
   "cell_type": "code",
   "execution_count": 16,
   "metadata": {},
   "outputs": [
    {
     "name": "stdout",
     "output_type": "stream",
     "text": [
      "['commandLineTest.py', 'parameter1', 'cat', 'dog', '-f']\n"
     ]
    }
   ],
   "source": [
    "%run commandLineTest.py \"parameter1\" \"cat\" \"dog\" \"-f\""
   ]
  },
  {
   "cell_type": "markdown",
   "metadata": {},
   "source": [
    "### User Prompts"
   ]
  },
  {
   "cell_type": "markdown",
   "metadata": {},
   "source": [
    "Simply `import sys`, then assign a variable to `input(\"Prompt the user here\")`."
   ]
  },
  {
   "cell_type": "code",
   "execution_count": 7,
   "metadata": {},
   "outputs": [
    {
     "name": "stdout",
     "output_type": "stream",
     "text": [
      "Please enter your favorite number:222\n",
      "Your favorite number, 222 , is Even\n"
     ]
    }
   ],
   "source": [
    "import sys\n",
    "\n",
    "# A function that tells whether a number is even, for the hell of it. \n",
    "def isEven(number):\n",
    "    if number % 2 == 0:\n",
    "        return(\"Even\")\n",
    "    else:\n",
    "        return(\"Odd\")\n",
    "\n",
    "# Get the user input via command line prompt\n",
    "user_input = input(\"Please enter your favorite number: \")\n",
    "\n",
    "# Tell the user whether their favorite number is even or not. \n",
    "print(\"Your favorite number,\", user_input, \", is\", isEven(int(user_input)))"
   ]
  },
  {
   "cell_type": "markdown",
   "metadata": {},
   "source": [
    "### Import a Script Into a Code Cell"
   ]
  },
  {
   "cell_type": "markdown",
   "metadata": {},
   "source": [
    "Call `%load filename.py`"
   ]
  },
  {
   "cell_type": "code",
   "execution_count": null,
   "metadata": {},
   "outputs": [],
   "source": [
    "# %load commandLineTest.py\n",
    "import sys\n",
    "\n",
    "print(sys.argv)"
   ]
  },
  {
   "cell_type": "markdown",
   "metadata": {},
   "source": [
    "### Types vs. Values"
   ]
  },
  {
   "cell_type": "markdown",
   "metadata": {},
   "source": [
    "Below is an example of a `(type, value)` pair"
   ]
  },
  {
   "cell_type": "code",
   "execution_count": 5,
   "metadata": {},
   "outputs": [
    {
     "data": {
      "text/plain": [
       "(str, 'Max')"
      ]
     },
     "execution_count": 5,
     "metadata": {},
     "output_type": "execute_result"
    }
   ],
   "source": [
    "name = \"Max\"\n",
    "type(name), name"
   ]
  },
  {
   "cell_type": "markdown",
   "metadata": {},
   "source": [
    "### Multiple Assignment"
   ]
  },
  {
   "cell_type": "markdown",
   "metadata": {},
   "source": [
    "`a, b = f(   )`"
   ]
  },
  {
   "cell_type": "code",
   "execution_count": 4,
   "metadata": {},
   "outputs": [
    {
     "data": {
      "text/plain": [
       "(40, 50, 20)"
      ]
     },
     "execution_count": 4,
     "metadata": {},
     "output_type": "execute_result"
    }
   ],
   "source": [
    "# A function that returns multiple values. \n",
    "def mv(a, b, c): \n",
    "    \n",
    "    updated_a = a*10\n",
    "    updated_b = b*10\n",
    "    updated_c = c*10\n",
    "    \n",
    "    return updated_a, updated_b, updated_c\n",
    "\n",
    "return_values = mv(4, 5, 2) # a tuple\n",
    "return_values"
   ]
  },
  {
   "cell_type": "markdown",
   "metadata": {},
   "source": [
    "Really useful with tuples "
   ]
  },
  {
   "cell_type": "markdown",
   "metadata": {},
   "source": [
    "### Mutable & Immutable Objects"
   ]
  },
  {
   "cell_type": "markdown",
   "metadata": {},
   "source": [
    "*Immutable Objects* – Strings, Tuples  \n",
    "\n",
    "*Mutable Objects* – Lists, Dicts, numpy Arrays"
   ]
  },
  {
   "cell_type": "markdown",
   "metadata": {},
   "source": [
    "### Multiple Assignments"
   ]
  },
  {
   "cell_type": "code",
   "execution_count": 143,
   "metadata": {},
   "outputs": [
    {
     "name": "stdout",
     "output_type": "stream",
     "text": [
      "alligator\n",
      "bunny\n",
      "cockroach\n"
     ]
    }
   ],
   "source": [
    "a,b,c = [\"alligator\", \"bunny\", \"cockroach\"]\n",
    "print(a)\n",
    "print(b)\n",
    "print(c)"
   ]
  },
  {
   "cell_type": "markdown",
   "metadata": {},
   "source": [
    "### Functions"
   ]
  },
  {
   "cell_type": "code",
   "execution_count": 14,
   "metadata": {},
   "outputs": [
    {
     "name": "stdout",
     "output_type": "stream",
     "text": [
      "Tomas, you owe: $50\n",
      "Tomas, you owe: $50\n"
     ]
    }
   ],
   "source": [
    "def funct(name, weight, basePrice, fee):\n",
    "    owed = basePrice\n",
    "    if (weight > 30):\n",
    "        owed += fee\n",
    "    print(\"%s, you owe: $%s\" % (name, owed))\n",
    "    \n",
    "funct(name = \"Tomas\", weight = 40, basePrice = 30, fee = 20) # complete syntax\n",
    "funct(\"Tomas\", 40, 30, 20) # shorthand"
   ]
  },
  {
   "cell_type": "markdown",
   "metadata": {},
   "source": [
    "Using functions in as variables: **Super useful**"
   ]
  },
  {
   "cell_type": "code",
   "execution_count": 62,
   "metadata": {},
   "outputs": [
    {
     "name": "stdout",
     "output_type": "stream",
     "text": [
      "40\n",
      "-400\n"
     ]
    }
   ],
   "source": [
    "# Something elementary\n",
    "def doSomeOperation(value, operation = abs):\n",
    "    return operation(value)\n",
    "\n",
    "doSomeOperation(-55, abs)\n",
    "\n",
    "# Something more complicated\n",
    "def multiplyBySomeValue(value, multiplier = 10):\n",
    "    return value*multiplier\n",
    "\n",
    "functionsToRun = [doSomeOperation, multiplyBySomeValue]\n",
    "\n",
    "for function in functionsToRun:\n",
    "    print(function(-40))"
   ]
  },
  {
   "cell_type": "markdown",
   "metadata": {},
   "source": [
    "### Anonymous (Lambda) Functions"
   ]
  },
  {
   "cell_type": "markdown",
   "metadata": {},
   "source": [
    "How? use the *lambda* keyword in the syntax:   \n",
    "\n",
    "    lambda *parameter*: return *some operation on that parameter*\n",
    "\n",
    "Why are they called anonymous? They are never named.\n",
    "\n",
    "Lambda functions are a way writing functions consisting of a single statement, the result of which is the return\n",
    "value, much like in D3.\n",
    "\n",
    "They are especially convenient in data analysis because, as you’ll see, there are many cases where data\n",
    "transformation functions will take functions as arguments. It’s often less typing (and clearer) to pass a lambda function as opposed to writing a full-out function declaration or even assigning the lambda function to a local variable.   \n",
    "\n",
    "Here's an example:"
   ]
  },
  {
   "cell_type": "code",
   "execution_count": 17,
   "metadata": {},
   "outputs": [
    {
     "data": {
      "text/plain": [
       "[5, 10, 15, 20, 25, 30, 35]"
      ]
     },
     "execution_count": 17,
     "metadata": {},
     "output_type": "execute_result"
    }
   ],
   "source": [
    "l = [1, 2, 3, 4, 5, 6, 7]\n",
    "\n",
    "def apply_to_list(some_list, f):\n",
    "    return [f(x) for x in some_list] # LIST COMPREHENSIONS syntax example. \n",
    "\n",
    "apply_to_list(l, lambda x: x * 5) # Here's the anonymous function"
   ]
  },
  {
   "cell_type": "markdown",
   "metadata": {},
   "source": [
    "### If Statements"
   ]
  },
  {
   "cell_type": "code",
   "execution_count": 58,
   "metadata": {},
   "outputs": [
    {
     "name": "stdout",
     "output_type": "stream",
     "text": [
      "5 is greater than 4\n"
     ]
    }
   ],
   "source": [
    "i = 5\n",
    "j = 4\n",
    "if (i > j):\n",
    "    print(str(i) + \" is greater than \" + str(j))\n",
    "else:\n",
    "    print(str(i) + \" is less than or equal to \" + str(j))"
   ]
  },
  {
   "cell_type": "markdown",
   "metadata": {},
   "source": [
    "### For Loops"
   ]
  },
  {
   "cell_type": "code",
   "execution_count": 56,
   "metadata": {
    "scrolled": false
   },
   "outputs": [
    {
     "name": "stdout",
     "output_type": "stream",
     "text": [
      "1\n",
      "2\n",
      "3\n",
      "4\n"
     ]
    }
   ],
   "source": [
    "i = 5\n",
    "for element in range(1, i):\n",
    "    print(element)"
   ]
  },
  {
   "cell_type": "markdown",
   "metadata": {},
   "source": [
    "### While Loops"
   ]
  },
  {
   "cell_type": "code",
   "execution_count": 39,
   "metadata": {},
   "outputs": [
    {
     "name": "stdout",
     "output_type": "stream",
     "text": [
      "I ate 0 hot dogs\n",
      "I ate 1 hot dogs\n",
      "I ate 2 hot dogs\n",
      "I ate 3 hot dogs\n",
      "I ate 4 hot dogs\n"
     ]
    }
   ],
   "source": [
    "i = 0\n",
    "while(i < 5):\n",
    "    print(\"I ate \" + str(i) + \" hot dogs\")\n",
    "    i += 1"
   ]
  },
  {
   "cell_type": "markdown",
   "metadata": {},
   "source": [
    "### Pass"
   ]
  },
  {
   "cell_type": "markdown",
   "metadata": {},
   "source": [
    "Usefull if you want to \"pass\" on a block of code & fill it in later. Here's an example:"
   ]
  },
  {
   "cell_type": "code",
   "execution_count": 57,
   "metadata": {},
   "outputs": [
    {
     "name": "stdout",
     "output_type": "stream",
     "text": [
      "10 is less than 20\n"
     ]
    }
   ],
   "source": [
    "def f(a, b):\n",
    "    if a > b:\n",
    "        pass # TODO: Figure out this case later.\n",
    "    elif a < b:\n",
    "        print(a, \"is less than\", b)\n",
    "    else:\n",
    "        print(\"Equal!\")\n",
    "        \n",
    "f(10, 20)"
   ]
  },
  {
   "cell_type": "markdown",
   "metadata": {},
   "source": [
    "### Type Conversion"
   ]
  },
  {
   "cell_type": "code",
   "execution_count": 42,
   "metadata": {},
   "outputs": [],
   "source": [
    "type(5.44) # check type of an object\n",
    "str(5)     # int -> String\n",
    "int(\"10\")  # String -> int\n"
   ]
  },
  {
   "cell_type": "markdown",
   "metadata": {},
   "source": [
    "### Iterators & Generators"
   ]
  },
  {
   "cell_type": "markdown",
   "metadata": {},
   "source": [
    "Having a consistent way to iterate over sequences, like objects in a list or lines in a file, is an important Python feature. This is accomplished by means of the iterator protocol, a generic way to make objects iterable.\n",
    "\n",
    "Here's an example:"
   ]
  },
  {
   "cell_type": "code",
   "execution_count": 72,
   "metadata": {},
   "outputs": [
    {
     "data": {
      "text/plain": [
       "['Max', 'Quinn', 'Vinnie']"
      ]
     },
     "execution_count": 72,
     "metadata": {},
     "output_type": "execute_result"
    }
   ],
   "source": [
    "d = {\"Max\":22, \"Quinn\":19, \"Vinnie\":17}\n",
    "\n",
    "list(iter(d.keys()))"
   ]
  },
  {
   "cell_type": "markdown",
   "metadata": {},
   "source": [
    "A **generator** is a concise way to construct a new iterable object. Look more into these if necessary. I can't think of use case. (Why not just make a list?)"
   ]
  },
  {
   "cell_type": "markdown",
   "metadata": {},
   "source": [
    "**Itertools** is an important library when it comes to iterators & generators. "
   ]
  },
  {
   "cell_type": "code",
   "execution_count": 75,
   "metadata": {},
   "outputs": [],
   "source": [
    "import itertools\n",
    "\n",
    "# look more into this if necessary."
   ]
  },
  {
   "cell_type": "markdown",
   "metadata": {},
   "source": [
    "### Containers"
   ]
  },
  {
   "cell_type": "markdown",
   "metadata": {},
   "source": [
    "*Containers* are objects that contain references to other objects.  \n",
    "\n",
    "Examples of containers are:  \n",
    "- tuples  \n",
    "- lists  \n",
    "- dictionaries"
   ]
  },
  {
   "cell_type": "markdown",
   "metadata": {},
   "source": [
    "### Tuples"
   ]
  },
  {
   "cell_type": "markdown",
   "metadata": {},
   "source": [
    "A tuple is a collection which is ordered and immutable. The objects inside, however, may be mutable."
   ]
  },
  {
   "cell_type": "code",
   "execution_count": 74,
   "metadata": {
    "scrolled": true
   },
   "outputs": [
    {
     "name": "stdout",
     "output_type": "stream",
     "text": [
      "cat\n",
      "[1, 2, 3, 4]\n",
      "55\n"
     ]
    }
   ],
   "source": [
    "t = (\"cat\", [1, 2, 3], 55)\n",
    "\n",
    "# tuple -> list\n",
    "l = list(t)\n",
    "\n",
    "# String -> tuple\n",
    "s = \"catdogmonkey\"\n",
    "t2 = tuple(s)\n",
    "\n",
    "# Indexing\n",
    "t[0]\n",
    "\n",
    "# Changing mutable inner values\n",
    "t[1].append(4)\n",
    "t\n",
    "\n",
    "# traversing a tuple\n",
    "for i in t: \n",
    "    print(i)"
   ]
  },
  {
   "cell_type": "markdown",
   "metadata": {},
   "source": [
    "Tuples are a great way to group related items without having to create a formal Python class definition. For example - "
   ]
  },
  {
   "cell_type": "code",
   "execution_count": 3,
   "metadata": {},
   "outputs": [
    {
     "name": "stdout",
     "output_type": "stream",
     "text": [
      "name: Max Alfaro \n",
      " age: 22\n"
     ]
    }
   ],
   "source": [
    "me = (\"Max Alfaro\", 22)\n",
    "name, age = me\n",
    "print(\"name:\", name, \"\\n\", \"age:\", age)"
   ]
  },
  {
   "cell_type": "markdown",
   "metadata": {},
   "source": [
    "### Lists"
   ]
  },
  {
   "cell_type": "markdown",
   "metadata": {},
   "source": [
    "In contrast with tuples, lists are variable-length and their contents can be modified\n",
    "in-place."
   ]
  },
  {
   "cell_type": "code",
   "execution_count": 95,
   "metadata": {},
   "outputs": [],
   "source": [
    "# defining a list\n",
    "x = [1, 2, 3, 4, 5]\n",
    "\n",
    "# Adding elements\n",
    "x.append(6)\n",
    "x.insert(1, -10) # inserts -10 at position 1 & shifts everything else to the right one space\n",
    "\n",
    "# Traversing a list\n",
    "for element in x:\n",
    "    pass # Do something useful\n",
    "\n",
    "# Removing elements\n",
    "x.remove(2) # locates the first such value & removes it from the list\n",
    "x.pop(1) # remove & return x[1]\n",
    "\n",
    "# Insert into sorted list\n",
    "import bisect\n",
    "bisect.bisect(x, 30) # tells the index of x in which you should add 30 in order to maintain sorting\n",
    "bisect.insort(x, 30) # inserts 30 into the correct index in x"
   ]
  },
  {
   "cell_type": "markdown",
   "metadata": {},
   "source": [
    "### Sorting "
   ]
  },
  {
   "cell_type": "markdown",
   "metadata": {},
   "source": [
    "**Sort(  )** modifies the current list."
   ]
  },
  {
   "cell_type": "code",
   "execution_count": 110,
   "metadata": {},
   "outputs": [
    {
     "name": "stdout",
     "output_type": "stream",
     "text": [
      "[-12, 2, 11, 12, 42, 525]\n",
      "['apple', 'cat', 'fish']\n",
      "['cat', 'fish', 'apple']\n"
     ]
    }
   ],
   "source": [
    "x = [2, 12, 42, 11, -12, 525]\n",
    "x.sort()\n",
    "print(x)\n",
    "\n",
    "x = [\"cat\", \"fish\", \"apple\"]\n",
    "x.sort() # sorts alphabetically by default\n",
    "print(x)\n",
    "\n",
    "x.sort(key = len) # sorts by length\n",
    "print(x)"
   ]
  },
  {
   "cell_type": "markdown",
   "metadata": {},
   "source": [
    "**Sorted(  )** returns a *new* list"
   ]
  },
  {
   "cell_type": "code",
   "execution_count": 114,
   "metadata": {},
   "outputs": [
    {
     "data": {
      "text/plain": [
       "['cat', 'fish', 'apple']"
      ]
     },
     "execution_count": 114,
     "metadata": {},
     "output_type": "execute_result"
    }
   ],
   "source": [
    "x = [\"apple\", \"cat\", \"fish\"]\n",
    "y = sorted(x, key = len)\n",
    "y"
   ]
  },
  {
   "cell_type": "markdown",
   "metadata": {},
   "source": [
    "### Zip"
   ]
  },
  {
   "cell_type": "markdown",
   "metadata": {},
   "source": [
    "zip “pairs” up the elements of a number of lists, tuples, or other sequences to create a\n",
    "list of tuples."
   ]
  },
  {
   "cell_type": "code",
   "execution_count": null,
   "metadata": {},
   "outputs": [],
   "source": [
    "list_a = [\"apple\", \"banana\", \"carrot\"]\n",
    "list_b = [\"donkey\", \"elephant\", \"frog\", \"giraffe\"]\n",
    "\n",
    "z = zip(list_a, list_b) # notice how the zip takes the minimum number of elements between the two lists.\n",
    "\n",
    "print(list(z))"
   ]
  },
  {
   "cell_type": "markdown",
   "metadata": {},
   "source": [
    "A good use case of zip(   ) would be to create tuples out of (key, value) pairs in a dictionary, assuming that each key has only one value. Here's an example:"
   ]
  },
  {
   "cell_type": "code",
   "execution_count": 13,
   "metadata": {},
   "outputs": [
    {
     "name": "stdout",
     "output_type": "stream",
     "text": [
      "[('Max', 22), ('Quinn', 19), ('Vinnie', 17)]\n"
     ]
    }
   ],
   "source": [
    "dict = {\"Max\":22, \"Quinn\":19, \"Vinnie\":17}\n",
    "k = dict.keys()\n",
    "v = dict.values()\n",
    "pairs = list(zip(k, v))\n",
    "\n",
    "print(pairs)"
   ]
  },
  {
   "cell_type": "markdown",
   "metadata": {},
   "source": [
    "### Dictionaries (a.k.a. Hash Maps)"
   ]
  },
  {
   "cell_type": "markdown",
   "metadata": {},
   "source": [
    "Key-value pairs. Keys of a dictionary must be immuatable, i.e., *hashable*. You can check if an object is hashable using the hash() function. "
   ]
  },
  {
   "cell_type": "code",
   "execution_count": 20,
   "metadata": {},
   "outputs": [
    {
     "name": "stdout",
     "output_type": "stream",
     "text": [
      "-8337189497744420770\n",
      "Max\n",
      "22\n",
      "Quinn\n",
      "19\n",
      "Vinnie\n",
      "17\n"
     ]
    }
   ],
   "source": [
    "# Creation\n",
    "dict = {} \n",
    "\n",
    "# Adding elements\n",
    "print(hash(\"Max\"))\n",
    "\n",
    "dict[\"Max\"] = 22\n",
    "dict[\"Quinn\"] = 19\n",
    "dict[\"Vinnie\"] = 17\n",
    "\n",
    "# iterating over keys\n",
    "for k in dict:       \n",
    "    print(k)         \n",
    "    print(dict[k])  \n",
    "\n",
    "# extracting values\n",
    "max_age = dict.pop(\"Max\") # returns & removes the value associated with key \"Max\"\n",
    "k = dict.keys()\n",
    "v = dict.values()"
   ]
  },
  {
   "cell_type": "markdown",
   "metadata": {},
   "source": [
    "Adding iteratively to dictionaries is usually going to be your main interaction with the data structure. There are some obvious ways to do it, and some more clever ways. See pp 63-64 in the *Python for Data Analysis* book.  \n",
    "\n",
    "Here's an example that sorts words of the same letter in a list."
   ]
  },
  {
   "cell_type": "code",
   "execution_count": 51,
   "metadata": {
    "scrolled": true
   },
   "outputs": [
    {
     "name": "stdout",
     "output_type": "stream",
     "text": [
      "{'d': ['diego', 'duncan', 'donald', 'drake', 'don'], 'm': ['max', 'marty', 'marika', 'monty'], 'r': ['riley', 'ron'], 'k': ['karl'], 'b': ['ben']}\n",
      "{'d': ['diego', 'duncan', 'donald', 'drake', 'don'], 'm': ['max', 'marty', 'marika', 'monty'], 'r': ['riley', 'ron'], 'k': ['karl'], 'b': ['ben']}\n"
     ]
    }
   ],
   "source": [
    "l = [\"diego\", \"duncan\", \"max\", \"donald\", \"drake\", \"marty\", \"riley\", \"ron\", \"karl\", \"don\", \"ben\", \"marika\", \"monty\"]\n",
    "\n",
    "# An logically easy way to do it.\n",
    "d1 = {}\n",
    "for word in l:\n",
    "    f = word[0] # the first letter of the word\n",
    "    if f in d1:\n",
    "        d1[f].append(word)\n",
    "    else: \n",
    "        d1[f] = [word]\n",
    "\n",
    "print(d1)\n",
    "        \n",
    "# An even easier way\n",
    "d2 = {}\n",
    "for word in l:\n",
    "    f = word[0]\n",
    "    d2.setdefault(f, []).append(word) # dictionary.setdefault(key, defaultValue).append(New Value)\n",
    "    \n",
    "print(d2)"
   ]
  },
  {
   "cell_type": "markdown",
   "metadata": {},
   "source": [
    "### Sets"
   ]
  },
  {
   "cell_type": "markdown",
   "metadata": {},
   "source": [
    "A set is an **unordered** collection of **unique** elements. Basically, as set is a dict with only keys, no values."
   ]
  },
  {
   "cell_type": "code",
   "execution_count": 29,
   "metadata": {
    "scrolled": true
   },
   "outputs": [
    {
     "name": "stdout",
     "output_type": "stream",
     "text": [
      "{'monkey', 'cat', 'dog'}\n",
      "{'monkey', 'cat', 'dog'}\n",
      "{'marty', 'mickey', 'adam', 'andy', 'martha', 'monty', 'atticus', 'arnold'}\n"
     ]
    }
   ],
   "source": [
    "# Creating sets\n",
    "s1 = {\"cat\", \"dog\", \"cat\", \"monkey\"} # curly brackets\n",
    "\n",
    "l = [\"cat\", \"dog\", \"cat\", \"monkey\"] # convert list to set via set() function\n",
    "s2 = set(l)\n",
    "\n",
    "print(s1)\n",
    "print(s2)\n",
    "\n",
    "# Set operations\n",
    "s1 = {\"marty\", \"monty\", \"mickey\", \"martha\", \"arnold\"}\n",
    "s2 = {\"adam\", \"andy\", \"atticus\", \"arnold\", \"martha\"}\n",
    "\n",
    "print(s1 | s2) # union\n",
    "print(s1 & s2) # intersection\n",
    "# There are many more – isSubset(), difference(), isSuperset()"
   ]
  },
  {
   "cell_type": "markdown",
   "metadata": {},
   "source": [
    "#### Set Arithmetic"
   ]
  },
  {
   "cell_type": "code",
   "execution_count": 3,
   "metadata": {},
   "outputs": [
    {
     "data": {
      "text/plain": [
       "{40, 50}"
      ]
     },
     "execution_count": 3,
     "metadata": {},
     "output_type": "execute_result"
    }
   ],
   "source": [
    "a = {10, 20, 30, 40, 50}\n",
    "b = {40, 50, 60, 70, 80}\n",
    "\n",
    "a.intersection(b)"
   ]
  },
  {
   "cell_type": "markdown",
   "metadata": {},
   "source": [
    "#### Set inclusion"
   ]
  },
  {
   "cell_type": "code",
   "execution_count": 4,
   "metadata": {},
   "outputs": [
    {
     "data": {
      "text/plain": [
       "True"
      ]
     },
     "execution_count": 4,
     "metadata": {},
     "output_type": "execute_result"
    }
   ],
   "source": [
    "40 in a"
   ]
  },
  {
   "cell_type": "markdown",
   "metadata": {},
   "source": [
    "### Tables"
   ]
  },
  {
   "cell_type": "markdown",
   "metadata": {},
   "source": [
    "Spreadsheets arrange rows one after the other, which programmers interpret as a list of lists. In the analytics or database world, we call this a table. An example of a table is a **dataframe**. "
   ]
  },
  {
   "cell_type": "markdown",
   "metadata": {},
   "source": [
    "### Ternary Expressions"
   ]
  },
  {
   "cell_type": "markdown",
   "metadata": {},
   "source": [
    "A ternary expression in Python allows you to combine an if-else block that produces a value into a single line or expression. The syntax for this in Python is:  \n",
    "\n",
    ">value = *true-expr* if condition else *false-expr*\n",
    "\n",
    "\n",
    "In more readable terms:  \n",
    "\n",
    "\n",
    ">if condition:  \n",
    "    value = *true-expr*  \n",
    "else:  \n",
    ">    value = *false-expr*  \n",
    "\n",
    "Here's an example:"
   ]
  },
  {
   "cell_type": "code",
   "execution_count": 63,
   "metadata": {},
   "outputs": [
    {
     "name": "stdout",
     "output_type": "stream",
     "text": [
      "10 is an even number\n"
     ]
    }
   ],
   "source": [
    "x = 10\n",
    "\n",
    "even_or_odd = \"even number\" if x%2 == 0 else \"odd number\"\n",
    "\n",
    "print(x, \"is an\", even_or_odd)"
   ]
  },
  {
   "cell_type": "markdown",
   "metadata": {},
   "source": [
    "### Access to Elements"
   ]
  },
  {
   "cell_type": "code",
   "execution_count": 97,
   "metadata": {},
   "outputs": [
    {
     "data": {
      "text/plain": [
       "'I went to the store o'"
      ]
     },
     "execution_count": 97,
     "metadata": {},
     "output_type": "execute_result"
    }
   ],
   "source": [
    "x = \"I went to the store one day\"\n",
    "\n",
    "# Indexing\n",
    "x[5]\n",
    "\n",
    "# Slicing\n",
    "x[2:20]\n",
    "x[2:]\n",
    "x[:20]\n",
    "x[:-6] # Negative indices slice the sequence relative to the end."
   ]
  },
  {
   "cell_type": "markdown",
   "metadata": {},
   "source": [
    "### Enumerate"
   ]
  },
  {
   "cell_type": "markdown",
   "metadata": {},
   "source": [
    "A useful alternative to incrementing i: "
   ]
  },
  {
   "cell_type": "code",
   "execution_count": 104,
   "metadata": {},
   "outputs": [
    {
     "name": "stdout",
     "output_type": "stream",
     "text": [
      "Found 4 in 3 trials.\n",
      "Found 4 in 3 trials.\n"
     ]
    }
   ],
   "source": [
    "x = [1, 2, 3, 4, 5]\n",
    "\n",
    "# self-incrementing\n",
    "i = 0\n",
    "for n in x:\n",
    "    if n == 4:\n",
    "        print(\"Found 4 in\", i, \"trials.\")\n",
    "        break\n",
    "    i += 1\n",
    "    \n",
    "# implementing enumerate\n",
    "for i, n in enumerate(x):\n",
    "    if n == 4:\n",
    "        print(\"Found 4 in\", i, \"trials.\")\n",
    "        break"
   ]
  },
  {
   "cell_type": "markdown",
   "metadata": {},
   "source": [
    "### Miscellaneous Functions"
   ]
  },
  {
   "cell_type": "code",
   "execution_count": 1,
   "metadata": {},
   "outputs": [
    {
     "name": "stdout",
     "output_type": "stream",
     "text": [
      "[1, 3, 5, 7, 9]\n",
      "1\n",
      "3\n",
      "5\n",
      "7\n",
      "9\n",
      "[5, 4, 3, 2, 1]\n"
     ]
    }
   ],
   "source": [
    "# Range\n",
    "r = range(1, 10, 2) # a range from 1 to 10 by 2\n",
    "\n",
    "print(list(r)) # print range as list\n",
    "\n",
    "for i in range(1,10,2): # iterate over the range\n",
    "    print(i)\n",
    "\n",
    "    \n",
    "# Round\n",
    "round(4.12345, 3) # note the second paramenter denotes # of decimals\n",
    "\n",
    "\n",
    "# Len\n",
    "len([1, 2, 3, 4]) # returns 4\n",
    "\n",
    "\n",
    "# Min & Max\n",
    "min([1, 2, 3, 4]) # returns 1\n",
    "max([1, 2, 3, 4]) # returns 4\n",
    "\n",
    "# reverse\n",
    "x = [1, 2, 3, 4, 5]\n",
    "r = list(reversed(x)) # calling reversed() on its own does not generate a new list.\n",
    "print(r)"
   ]
  },
  {
   "cell_type": "markdown",
   "metadata": {},
   "source": [
    "### Split(  )"
   ]
  },
  {
   "cell_type": "markdown",
   "metadata": {},
   "source": [
    "The split(s) splits a String by some separator s into separate components in an array. Here's an example:"
   ]
  },
  {
   "cell_type": "code",
   "execution_count": 15,
   "metadata": {},
   "outputs": [
    {
     "name": "stdout",
     "output_type": "stream",
     "text": [
      "['Silver', ' blue', ' orange and green.']\n"
     ]
    }
   ],
   "source": [
    "s = \",\" # separator \n",
    "test = \"Silver, blue, orange and green.\"\n",
    "\n",
    "a = test.split(s)\n",
    "\n",
    "print(a)"
   ]
  },
  {
   "cell_type": "markdown",
   "metadata": {},
   "source": [
    "### Reading Text Files"
   ]
  },
  {
   "cell_type": "markdown",
   "metadata": {},
   "source": [
    "If we want to *only* read from a file, we use the parameter 'r' in open(). If we want to read & write, we use 'r+'. \n",
    "\n",
    "Additionally, we use the syntax pattern: *with open()*. This format is what we call a **Context Manager**, and it is superior because it closes the file for you after you exit the interior of the *with* clause. "
   ]
  },
  {
   "cell_type": "code",
   "execution_count": 93,
   "metadata": {},
   "outputs": [
    {
     "name": "stdout",
     "output_type": "stream",
     "text": [
      "Once there was \n",
      "a man name\n",
      "d Ha\n",
      "30\n",
      "ce there was a \n",
      "Once there was a man name\n",
      "\n",
      "d Harriet DeGrove. \n",
      "\n",
      "Harriet was born one morning next to a bedstead that had existed for many years\n",
      "\n",
      "\n",
      "\n",
      "before he was born. 78, 77, one o\n",
      "\n",
      "f these years is the year in which the nightstand came into being. \n"
     ]
    }
   ],
   "source": [
    "with open('testFiles/test.txt', 'r') as f:\n",
    "\n",
    "    # Read the name of the file\n",
    "    f.name # 'test.txt'\n",
    "\n",
    "    # Read the mode of the opened file\n",
    "    f.mode # 'r'\n",
    "\n",
    "    # Some common commands\n",
    "    print(f.read(15)) # reads the first 15 lines of the file\n",
    "    print(f.read(15)) # reads the next 15 lines of the file\n",
    "    print(f.tell()) # tell where the \"cursor\" is\n",
    "    f.seek(2) # moves the \"cursor\" to the 2th index\n",
    "    print(f.read(15)) # reads the first 15 lines of the file\n",
    "    \n",
    "    #f.readlines() # a list of strings (lines)\n",
    "    #f.readline() # the first line of the file\n",
    "\n",
    "    # Iterating over the file\n",
    "    f.seek(0)\n",
    "    for line in f: \n",
    "        print(line)\n",
    "\n",
    "# reading raw text bytes\n",
    "with open('testFiles/test.txt', 'rb') as f:\n",
    "    pass # do something"
   ]
  },
  {
   "cell_type": "markdown",
   "metadata": {},
   "source": [
    "### Writing Text Files"
   ]
  },
  {
   "cell_type": "code",
   "execution_count": 91,
   "metadata": {},
   "outputs": [
    {
     "name": "stdout",
     "output_type": "stream",
     "text": [
      "A file already exists at that location. Would you like to overwrite the file? (Y/N)Y\n"
     ]
    }
   ],
   "source": [
    "# in mode \"w\" – create & overwrite file at specified path.\n",
    "with open(\"testFiles/test2.txt\", \"w\") as f2: # this is where you create the file. \n",
    "    f2.write(\"cat\")\n",
    "    f2.write(\"car\")\n",
    "\n",
    "# in mode \"x\" – only create new file at specified path if the path doesn't exist.\n",
    "import sys\n",
    "\n",
    "try:\n",
    "    with open(\"testFiles/test2.txt\", \"x\") as f2:\n",
    "        f2.write(\"banana\")\n",
    "        f2.wite(\"typewriter\")\n",
    "except (FileExistsError):\n",
    "    user_input = input(\"A file already exists at that location. Would you like to overwrite the file? (Y/N)\")\n",
    "    if user_input == \"Y\":\n",
    "        with open(\"testFiles/test2.txt\", \"w\") as f3:\n",
    "            f3.write(\"banana\")\n",
    "            f3.write(\"typewriter\")"
   ]
  },
  {
   "cell_type": "markdown",
   "metadata": {},
   "source": [
    "The output will look like: \n",
    "\n",
    "catcar"
   ]
  },
  {
   "cell_type": "markdown",
   "metadata": {},
   "source": [
    "### Reading CSV Files"
   ]
  },
  {
   "cell_type": "markdown",
   "metadata": {},
   "source": [
    "Here we are accessing the `rent-ideal.csv` file used by Terrance Parr & Jeremy Howard in their book *The Mechanics of Machine Learning*"
   ]
  },
  {
   "cell_type": "code",
   "execution_count": 11,
   "metadata": {},
   "outputs": [
    {
     "name": "stdout",
     "output_type": "stream",
     "text": [
      "   bedrooms  bathrooms  latitude  longitude  price\n",
      "0         3        1.5   40.7145   -73.9425   3000\n",
      "1         2        1.0   40.7947   -73.9667   5465\n",
      "2         1        1.0   40.7388   -74.0018   2850\n",
      "3         1        1.0   40.7539   -73.9677   3275\n",
      "4         4        1.0   40.8241   -73.9493   3350\n"
     ]
    }
   ],
   "source": [
    "import pandas as pd\n",
    "\n",
    "df = pd.read_csv(\"testFiles/rent-ideal.csv\")\n",
    "\n",
    "print(df.head(5))"
   ]
  },
  {
   "cell_type": "markdown",
   "metadata": {},
   "source": [
    "### Classes"
   ]
  },
  {
   "cell_type": "markdown",
   "metadata": {},
   "source": [
    "*Classes* provide a means of bundling data and functionality together. Creating a new class creates a new type of object, allowing new instances of that type to be made."
   ]
  },
  {
   "cell_type": "code",
   "execution_count": 107,
   "metadata": {},
   "outputs": [
    {
     "data": {
      "text/plain": [
       "['Roll over']"
      ]
     },
     "execution_count": 107,
     "metadata": {},
     "output_type": "execute_result"
    }
   ],
   "source": [
    "class Dog():\n",
    "    \n",
    "    classType = \"animal\"\n",
    "    \n",
    "    def __init__(self, name): # The constructor\n",
    "        self.name = name\n",
    "        self.tricks = []\n",
    "    \n",
    "    def addTrick(self, newTrick):\n",
    "        self.tricks.append(newTrick)\n",
    "        \n",
    "c = Dog(\"Carlos\")\n",
    "n = Dog(\"Nidia\")\n",
    "\n",
    "c.addTrick(\"Roll over\")\n"
   ]
  },
  {
   "cell_type": "markdown",
   "metadata": {},
   "source": [
    "The instantiation operation (“calling” a class object) creates an empty object. Many classes like to create objects with instances customized to a specific initial state. Therefore a class may define a special method named \\__init__(  )"
   ]
  },
  {
   "cell_type": "code",
   "execution_count": 13,
   "metadata": {},
   "outputs": [
    {
     "name": "stdout",
     "output_type": "stream",
     "text": [
      "['pushups']\n"
     ]
    }
   ],
   "source": [
    "class Dog():\n",
    "    \n",
    "    classType = \"animal\"\n",
    "    #name = \"\"  DO NOT do this. this will make a global variable for all dogs. \n",
    "    #tricks = [] # DO NOT do this for the same reason. \n",
    "    \n",
    "    def __init__(self, new_name): # constructor that takes in one parameter, \"name\"\n",
    "        self.name = new_name\n",
    "        self.tricks = []\n",
    "    \n",
    "    def addTrick(self, newTrick): # you must have this \"self\"\n",
    "        self.tricks.append(newTrick)\n",
    "        \n",
    "d = Dog(\"terry\")\n",
    "d.addTrick(\"pushups\")\n",
    "\n",
    "print(d.tricks)"
   ]
  },
  {
   "cell_type": "markdown",
   "metadata": {},
   "source": [
    "### String formatting"
   ]
  },
  {
   "cell_type": "markdown",
   "metadata": {},
   "source": [
    "*Why not just use string concatenation?*\n",
    "\n",
    "Concatenation is difficult to read. Parenthases/bracket order becomes muddled.\n",
    "\n",
    "*How does string formatting work?*\n",
    "\n",
    "Python uses C-style string formatting to create new, formatted strings. The `%` operator is used to format a set of variables enclosed in a \"tuple\" (a fixed size list), together with a format string, which contains normal text together with \"argument specifiers\", special symbols like `%s` and `%d`\n",
    "\n",
    "- %s for Strings \n",
    "- %d for Integers\n",
    "- %f for floats\n",
    "\n",
    "**Note that the `%` symbol seems to be out of style, being replaced with `str.format()`**\n",
    "\n",
    "*(Note that these are the essentials, but there are more.)*"
   ]
  },
  {
   "cell_type": "markdown",
   "metadata": {},
   "source": [
    "**Example** – print \"Hello John Doe. Your current balance is $53.44.\""
   ]
  },
  {
   "cell_type": "code",
   "execution_count": 78,
   "metadata": {},
   "outputs": [
    {
     "name": "stdout",
     "output_type": "stream",
     "text": [
      "Hello John Doe. Your current balance is $53.44.\n"
     ]
    }
   ],
   "source": [
    "# Extracting information from a tuple\n",
    "data = (\"John\", \"Doe\", 53.44)\n",
    "formatting = \"Hello %s %s. Your current balance is $%s.\"\n",
    "s1 = formatting % data\n",
    "print(s1)"
   ]
  },
  {
   "cell_type": "code",
   "execution_count": null,
   "metadata": {},
   "outputs": [],
   "source": [
    "# Extracting information from a list\n",
    "data = [\"John\", \"Doe\", 53.44]\n",
    "s2 = \"Hello {0} {1}. Your current balance is ${2}.\".format(\"John\", \"Doe\", 53.44)\n",
    "s3 = \"Hello {0[0]} {0[1]}. Your current balance is ${0[2]}.\".format(data)\n",
    "print(s2)\n",
    "print(s3)"
   ]
  },
  {
   "cell_type": "markdown",
   "metadata": {},
   "source": [
    "#### `str.format()`"
   ]
  },
  {
   "cell_type": "markdown",
   "metadata": {},
   "source": [
    "###### Let's start with some examples"
   ]
  },
  {
   "cell_type": "markdown",
   "metadata": {},
   "source": [
    "*Accessing arguments by position.*"
   ]
  },
  {
   "cell_type": "code",
   "execution_count": 3,
   "metadata": {},
   "outputs": [
    {
     "data": {
      "text/plain": [
       "'a, b, c'"
      ]
     },
     "execution_count": 3,
     "metadata": {},
     "output_type": "execute_result"
    }
   ],
   "source": [
    "'{0}, {1}, {2}'.format('a', 'b', 'c')"
   ]
  },
  {
   "cell_type": "code",
   "execution_count": 4,
   "metadata": {
    "scrolled": true
   },
   "outputs": [
    {
     "data": {
      "text/plain": [
       "'a, b, c'"
      ]
     },
     "execution_count": 4,
     "metadata": {},
     "output_type": "execute_result"
    }
   ],
   "source": [
    "'{}, {}, {}'.format('a', 'b', 'c')"
   ]
  },
  {
   "cell_type": "code",
   "execution_count": 8,
   "metadata": {},
   "outputs": [
    {
     "data": {
      "text/plain": [
       "'a, b, c'"
      ]
     },
     "execution_count": 8,
     "metadata": {},
     "output_type": "execute_result"
    }
   ],
   "source": [
    "'{0}, {1}, {2}'.format(*'abc')      # unpacking argument sequence; TODO: why the asterisk?"
   ]
  },
  {
   "cell_type": "code",
   "execution_count": 13,
   "metadata": {},
   "outputs": [
    {
     "data": {
      "text/plain": [
       "'abracadabra'"
      ]
     },
     "execution_count": 13,
     "metadata": {},
     "output_type": "execute_result"
    }
   ],
   "source": [
    "'{0}{1}{0}'.format(\"abra\", \"cad\")   # arguments indices can be repeated."
   ]
  },
  {
   "cell_type": "markdown",
   "metadata": {},
   "source": [
    "*Accessting arguments by name*"
   ]
  },
  {
   "cell_type": "code",
   "execution_count": 17,
   "metadata": {
    "scrolled": true
   },
   "outputs": [
    {
     "data": {
      "text/plain": [
       "'Coordinates: 34.53N, 57.77W'"
      ]
     },
     "execution_count": 17,
     "metadata": {},
     "output_type": "execute_result"
    }
   ],
   "source": [
    "'Coordinates: {latitude}, {longitude}'.format(latitude = '34.53N', longitude = '57.77W')"
   ]
  },
  {
   "cell_type": "code",
   "execution_count": 24,
   "metadata": {
    "scrolled": true
   },
   "outputs": [
    {
     "data": {
      "text/plain": [
       "'Coordinates: 34.53N, 57.77W'"
      ]
     },
     "execution_count": 24,
     "metadata": {},
     "output_type": "execute_result"
    }
   ],
   "source": [
    "coords = {'latitude': '34.53N', 'longitude': '57.77W'} # dictionary holding the values\n",
    "\n",
    "'Coordinates: {latitude}, {longitude}'.format(**coords) # TODO: Why the asterisks?"
   ]
  },
  {
   "cell_type": "markdown",
   "metadata": {},
   "source": [
    "*Accessing arguments' attributes.*"
   ]
  },
  {
   "cell_type": "code",
   "execution_count": 32,
   "metadata": {},
   "outputs": [
    {
     "data": {
      "text/plain": [
       "'The imaginary number (3-5j) is made up of the real number 3.0 and the imaginary number -5.0'"
      ]
     },
     "execution_count": 32,
     "metadata": {},
     "output_type": "execute_result"
    }
   ],
   "source": [
    "c = 3-5j\n",
    "\n",
    "'The imaginary number {0} is made up of the real number {0.real} and the imaginary number {0.imag}'.format(c)"
   ]
  },
  {
   "cell_type": "code",
   "execution_count": 35,
   "metadata": {
    "scrolled": true
   },
   "outputs": [
    {
     "data": {
      "text/plain": [
       "'Point(5, 10)'"
      ]
     },
     "execution_count": 35,
     "metadata": {},
     "output_type": "execute_result"
    }
   ],
   "source": [
    "# Create the class 'Point'\n",
    "class Point:\n",
    "    def __init__(self, x, y):\n",
    "        self.x, self.y = x, y\n",
    "    def __str__(self):\n",
    "        return 'Point({self.x}, {self.y})'.format(self=self) # Accessing the attributes\n",
    "\n",
    "# Create an instance of the class 'Point'\n",
    "p = Point(5, 10)\n",
    "str(p)"
   ]
  },
  {
   "cell_type": "markdown",
   "metadata": {},
   "source": [
    "*Accesing arguments’ items*"
   ]
  },
  {
   "cell_type": "code",
   "execution_count": 40,
   "metadata": {
    "scrolled": true
   },
   "outputs": [
    {
     "data": {
      "text/plain": [
       "'The array has the following elements: 10, 20, 30'"
      ]
     },
     "execution_count": 40,
     "metadata": {},
     "output_type": "execute_result"
    }
   ],
   "source": [
    "a = [10, 20, 30]\n",
    "\n",
    "'The array has the following elements: {0[0]}, {0[1]}, {0[2]}'.format(a)"
   ]
  },
  {
   "cell_type": "markdown",
   "metadata": {},
   "source": [
    "*Replacing `%s` & `%r` with `!s` & `!r`*"
   ]
  },
  {
   "cell_type": "code",
   "execution_count": 43,
   "metadata": {},
   "outputs": [
    {
     "data": {
      "text/plain": [
       "\"repr() shows quotes: 'string_01'; str() does not: string_02.\""
      ]
     },
     "execution_count": 43,
     "metadata": {},
     "output_type": "execute_result"
    }
   ],
   "source": [
    "'repr() shows quotes: {!r}; str() does not: {!s}.'.format('string_01', 'string_02')"
   ]
  },
  {
   "cell_type": "markdown",
   "metadata": {},
   "source": [
    "### Importing Packages"
   ]
  },
  {
   "cell_type": "markdown",
   "metadata": {},
   "source": [
    "\"Code is typically delivered in bundles called libraries or packages; the terms are more or less used synonymously in practice.\" -TP\n",
    "\n",
    "In Python a module is simply a file with the .py extension containing Python code.\n",
    "\n",
    "What follow are the standard conventions of naming imported packages. To import entire packages, such as *import all from numpy* is considered bad practice because of the great size of these packages. "
   ]
  },
  {
   "cell_type": "code",
   "execution_count": 53,
   "metadata": {},
   "outputs": [],
   "source": [
    "import numpy as np\n",
    "import matplotlib.pyplot as plt\n",
    "import pandas as pd\n",
    "import seaborn as sns\n",
    "import statsmodels as sm\n",
    "\n",
    "import test2 as t # contains a simple function addThree(a, b, c) returns a+b+c"
   ]
  },
  {
   "cell_type": "code",
   "execution_count": 54,
   "metadata": {},
   "outputs": [],
   "source": [
    "#t.addThree(5, 53, 123) # TODO: Why does this not work? "
   ]
  },
  {
   "cell_type": "markdown",
   "metadata": {},
   "source": [
    "### Pip Install"
   ]
  },
  {
   "cell_type": "markdown",
   "metadata": {},
   "source": [
    "To install Python packages, we use the `pip` program **via Bash** . Normally this program does what we want quickly and easily, but a number of things can go wrong. The most common is that your `pip` program does not match up with the `ipython` or `python` program. First verify that they appear to be coming from the same bin directory using `which`:\n",
    "\n",
    ">`$ which pip\n",
    "/Users/parrt/anaconda3/bin/pip`\n",
    "\n",
    "> `$ which python  \n",
    "/Users/parrt/anaconda3/bin/python`\n",
    "\n",
    "> `$ which python3  \n",
    "/Users/parrt/anaconda3/bin/python3`\n",
    "\n",
    "*from Terrance*"
   ]
  },
  {
   "cell_type": "markdown",
   "metadata": {},
   "source": [
    "As long as all of that is good, install packages with the following simple syntax: \n",
    "\n",
    "> `pip install pysoundfile`"
   ]
  },
  {
   "cell_type": "markdown",
   "metadata": {},
   "source": [
    "### Terrance's Examples"
   ]
  },
  {
   "cell_type": "markdown",
   "metadata": {},
   "source": [
    "Given a string containing the digits of a number, such as `s = \"501\"`, print out the sum of the individual digits. In this case, the output should be `6 = 5 + 0 + 1`. Hint: `int('9')` yields value `9`. Work backwards from the desired result, the sum, to figure out what you need. For example, the result is the sum of the digits. That means we need the digits. To get the digits, we can either iterate through the characters of a string or we can convert the string to a list of characters and iterate that. As we iterate, we can just sum up the digit values. To sum things up, we need to initialize a temporary result variable, perhaps called `n`."
   ]
  },
  {
   "cell_type": "code",
   "execution_count": 45,
   "metadata": {},
   "outputs": [
    {
     "data": {
      "text/plain": [
       "6"
      ]
     },
     "execution_count": 45,
     "metadata": {},
     "output_type": "execute_result"
    }
   ],
   "source": [
    "def sum_digits(input_string):\n",
    "    n = 0\n",
    "    for letter in input_string:\n",
    "        n += int(letter)\n",
    "    return n\n",
    "\n",
    "sum_digits(\"501\")"
   ]
  },
  {
   "cell_type": "markdown",
   "metadata": {},
   "source": [
    "Given a list of numbers in `A`, reverse the numbers inline (meaning w/o a separate copy of `A` and w/o creating a new list to return). Start by writing an example on the board. This exercise is useful for flipping images in your images project."
   ]
  },
  {
   "cell_type": "code",
   "execution_count": 50,
   "metadata": {},
   "outputs": [
    {
     "data": {
      "text/plain": [
       "[6, 5, 4, 3, 2, 1]"
      ]
     },
     "execution_count": 50,
     "metadata": {},
     "output_type": "execute_result"
    }
   ],
   "source": [
    "def rev_list(input_list):\n",
    "    i = 0\n",
    "    last_index = len(input_list) - 1\n",
    "    while i < len(input_list) / 2:\n",
    "        temp = input_list[i]\n",
    "        input_list[i] = input_list[last_index - i]\n",
    "        input_list[last_index - i] = temp\n",
    "        i += 1\n",
    "    return input_list\n",
    "\n",
    "rev_list([1, 2, 3, 4, 5, 6])"
   ]
  },
  {
   "cell_type": "markdown",
   "metadata": {},
   "source": [
    "### Data Frames"
   ]
  },
  {
   "cell_type": "markdown",
   "metadata": {},
   "source": [
    "One way to do it"
   ]
  },
  {
   "cell_type": "code",
   "execution_count": 9,
   "metadata": {
    "scrolled": true
   },
   "outputs": [
    {
     "data": {
      "text/html": [
       "<div>\n",
       "<style scoped>\n",
       "    .dataframe tbody tr th:only-of-type {\n",
       "        vertical-align: middle;\n",
       "    }\n",
       "\n",
       "    .dataframe tbody tr th {\n",
       "        vertical-align: top;\n",
       "    }\n",
       "\n",
       "    .dataframe thead th {\n",
       "        text-align: right;\n",
       "    }\n",
       "</style>\n",
       "<table border=\"1\" class=\"dataframe\">\n",
       "  <thead>\n",
       "    <tr style=\"text-align: right;\">\n",
       "      <th></th>\n",
       "      <th>name</th>\n",
       "      <th>cats</th>\n",
       "    </tr>\n",
       "  </thead>\n",
       "  <tbody>\n",
       "    <tr>\n",
       "      <th>0</th>\n",
       "      <td>Kent</td>\n",
       "      <td>3</td>\n",
       "    </tr>\n",
       "    <tr>\n",
       "      <th>1</th>\n",
       "      <td>Diego</td>\n",
       "      <td>4</td>\n",
       "    </tr>\n",
       "  </tbody>\n",
       "</table>\n",
       "</div>"
      ],
      "text/plain": [
       "    name  cats\n",
       "0   Kent     3\n",
       "1  Diego     4"
      ]
     },
     "execution_count": 9,
     "metadata": {},
     "output_type": "execute_result"
    }
   ],
   "source": [
    "import pandas as pd\n",
    "\n",
    "d = {\"name\": [\"Kent\", \"Diego\"], \"cats\": [3, 4]}\n",
    "df = pd.DataFrame(d)\n",
    "df"
   ]
  },
  {
   "cell_type": "markdown",
   "metadata": {},
   "source": [
    "Retrieving info"
   ]
  },
  {
   "cell_type": "code",
   "execution_count": 12,
   "metadata": {},
   "outputs": [
    {
     "name": "stdout",
     "output_type": "stream",
     "text": [
      "[['Kent' 3]\n",
      " ['Diego' 4]]\n"
     ]
    }
   ],
   "source": [
    "print(df.values)"
   ]
  },
  {
   "cell_type": "code",
   "execution_count": 13,
   "metadata": {},
   "outputs": [
    {
     "name": "stdout",
     "output_type": "stream",
     "text": [
      "Index(['name', 'cats'], dtype='object')\n"
     ]
    }
   ],
   "source": [
    "print(df.columns)"
   ]
  },
  {
   "cell_type": "code",
   "execution_count": 14,
   "metadata": {},
   "outputs": [
    {
     "name": "stdout",
     "output_type": "stream",
     "text": [
      "0     Kent\n",
      "1    Diego\n",
      "Name: name, dtype: object\n"
     ]
    }
   ],
   "source": [
    "print(df.name)"
   ]
  },
  {
   "cell_type": "markdown",
   "metadata": {},
   "source": [
    "Another example"
   ]
  },
  {
   "cell_type": "code",
   "execution_count": 11,
   "metadata": {
    "scrolled": false
   },
   "outputs": [
    {
     "data": {
      "text/html": [
       "<div>\n",
       "<style scoped>\n",
       "    .dataframe tbody tr th:only-of-type {\n",
       "        vertical-align: middle;\n",
       "    }\n",
       "\n",
       "    .dataframe tbody tr th {\n",
       "        vertical-align: top;\n",
       "    }\n",
       "\n",
       "    .dataframe thead th {\n",
       "        text-align: right;\n",
       "    }\n",
       "</style>\n",
       "<table border=\"1\" class=\"dataframe\">\n",
       "  <thead>\n",
       "    <tr style=\"text-align: right;\">\n",
       "      <th></th>\n",
       "      <th>a</th>\n",
       "      <th>b</th>\n",
       "      <th>c</th>\n",
       "      <th>d</th>\n",
       "      <th>e</th>\n",
       "    </tr>\n",
       "  </thead>\n",
       "  <tbody>\n",
       "    <tr>\n",
       "      <th>0</th>\n",
       "      <td>-5</td>\n",
       "      <td>-5</td>\n",
       "      <td>-2</td>\n",
       "      <td>-1</td>\n",
       "      <td>3</td>\n",
       "    </tr>\n",
       "    <tr>\n",
       "      <th>1</th>\n",
       "      <td>-5</td>\n",
       "      <td>-3</td>\n",
       "      <td>-3</td>\n",
       "      <td>1</td>\n",
       "      <td>-5</td>\n",
       "    </tr>\n",
       "    <tr>\n",
       "      <th>2</th>\n",
       "      <td>2</td>\n",
       "      <td>0</td>\n",
       "      <td>2</td>\n",
       "      <td>-1</td>\n",
       "      <td>-3</td>\n",
       "    </tr>\n",
       "    <tr>\n",
       "      <th>3</th>\n",
       "      <td>0</td>\n",
       "      <td>-2</td>\n",
       "      <td>-2</td>\n",
       "      <td>2</td>\n",
       "      <td>-5</td>\n",
       "    </tr>\n",
       "    <tr>\n",
       "      <th>4</th>\n",
       "      <td>-3</td>\n",
       "      <td>1</td>\n",
       "      <td>-1</td>\n",
       "      <td>-3</td>\n",
       "      <td>-1</td>\n",
       "    </tr>\n",
       "  </tbody>\n",
       "</table>\n",
       "</div>"
      ],
      "text/plain": [
       "   a  b  c  d  e\n",
       "0 -5 -5 -2 -1  3\n",
       "1 -5 -3 -3  1 -5\n",
       "2  2  0  2 -1 -3\n",
       "3  0 -2 -2  2 -5\n",
       "4 -3  1 -1 -3 -1"
      ]
     },
     "execution_count": 11,
     "metadata": {},
     "output_type": "execute_result"
    }
   ],
   "source": [
    "m = np.random.randint(low=-5, high=5, size=(5,5))\n",
    "df = pd.DataFrame(m, columns = ['a', 'b', 'c', 'd', 'e'])\n",
    "df"
   ]
  },
  {
   "cell_type": "markdown",
   "metadata": {},
   "source": [
    "### Matrices"
   ]
  },
  {
   "cell_type": "markdown",
   "metadata": {},
   "source": [
    "If the table elements are all numbers, we call it a matrix."
   ]
  },
  {
   "cell_type": "markdown",
   "metadata": {},
   "source": [
    "Creating a matrix: "
   ]
  },
  {
   "cell_type": "code",
   "execution_count": 15,
   "metadata": {},
   "outputs": [
    {
     "name": "stdout",
     "output_type": "stream",
     "text": [
      "[[ 19  11]\n",
      " [ 21  15]\n",
      " [103  18]\n",
      " [ 99  13]\n",
      " [  8   2]]\n"
     ]
    }
   ],
   "source": [
    "import numpy as np\n",
    "A = np.array([[19,11],\n",
    "              [21,15],\n",
    "              [103,18],\n",
    "              [99,13],\n",
    "              [8,2]])\n",
    "print(A)"
   ]
  },
  {
   "cell_type": "markdown",
   "metadata": {},
   "source": [
    "Associated commands:"
   ]
  },
  {
   "cell_type": "code",
   "execution_count": 16,
   "metadata": {},
   "outputs": [
    {
     "name": "stdout",
     "output_type": "stream",
     "text": [
      "(5, 2)\n"
     ]
    }
   ],
   "source": [
    "print(A.shape)"
   ]
  },
  {
   "cell_type": "markdown",
   "metadata": {},
   "source": [
    "### Error Handling"
   ]
  },
  {
   "cell_type": "markdown",
   "metadata": {},
   "source": [
    "While Java uses *Try-Catch* blocks, Python uses *Try-Except* blocks. Here's an example:"
   ]
  },
  {
   "cell_type": "code",
   "execution_count": 12,
   "metadata": {},
   "outputs": [
    {
     "name": "stdout",
     "output_type": "stream",
     "text": [
      "Your file, testFiles/test2.txt has opened successfully.\n",
      "There was an error openeing the file.\n"
     ]
    }
   ],
   "source": [
    "def openFile(filepath):\n",
    "    try:\n",
    "        with open(filepath) as f: \n",
    "            print(\"Your file,\", f.name, \"has opened successfully.\")\n",
    "    except IOError: # can be a tuple of different errors\n",
    "        print(\"There was an error opening the file.\")\n",
    "    finally: # this block will ALWAYS run\n",
    "        print(\"The function has finished running\")\n",
    "\n",
    "# Test a *working* file\n",
    "openFile(\"testFiles/test2.txt\")\n",
    "\n",
    "# Test a *nonexistent* file\n",
    "openFile(\"cats.txt\")"
   ]
  },
  {
   "cell_type": "markdown",
   "metadata": {},
   "source": [
    "TODO: Go over **raise** later."
   ]
  },
  {
   "cell_type": "markdown",
   "metadata": {},
   "source": [
    "### Plotting"
   ]
  },
  {
   "cell_type": "code",
   "execution_count": 12,
   "metadata": {},
   "outputs": [],
   "source": [
    "import matplotlib.pyplot as plt"
   ]
  },
  {
   "cell_type": "markdown",
   "metadata": {},
   "source": [
    "#### Histograms"
   ]
  },
  {
   "cell_type": "code",
   "execution_count": 14,
   "metadata": {},
   "outputs": [
    {
     "data": {
      "image/png": "[encoded data removed]",
      "text/plain": [
       "<Figure size 432x288 with 1 Axes>"
      ]
     },
     "metadata": {},
     "output_type": "display_data"
    }
   ],
   "source": [
    "plt.hist(df.price, bins=50)\n",
    "plt.show()"
   ]
  },
  {
   "cell_type": "markdown",
   "metadata": {},
   "source": [
    "### NumPy"
   ]
  },
  {
   "cell_type": "code",
   "execution_count": 16,
   "metadata": {},
   "outputs": [],
   "source": [
    "import numpy as np"
   ]
  },
  {
   "cell_type": "markdown",
   "metadata": {},
   "source": [
    "#### Some Basic Commands"
   ]
  },
  {
   "cell_type": "code",
   "execution_count": 21,
   "metadata": {},
   "outputs": [
    {
     "name": "stdout",
     "output_type": "stream",
     "text": [
      "4\n",
      "(2, 2)\n"
     ]
    }
   ],
   "source": [
    "print(np.size(df)) # Number of rows in the data frame\n",
    "print(np.shape(df)) # Dimensions of the data frame"
   ]
  },
  {
   "cell_type": "markdown",
   "metadata": {},
   "source": [
    "#### Matrix Operations"
   ]
  },
  {
   "cell_type": "markdown",
   "metadata": {},
   "source": [
    "Creation"
   ]
  },
  {
   "cell_type": "code",
   "execution_count": 26,
   "metadata": {},
   "outputs": [],
   "source": [
    "A = np.array([[19,11],\n",
    "              [21,15],\n",
    "              [103,18],\n",
    "              [99,13],\n",
    "              [8,2]])\n"
   ]
  },
  {
   "cell_type": "markdown",
   "metadata": {},
   "source": [
    "Matrix Addition"
   ]
  },
  {
   "cell_type": "code",
   "execution_count": 27,
   "metadata": {},
   "outputs": [
    {
     "name": "stdout",
     "output_type": "stream",
     "text": [
      "[[ 38  22]\n",
      " [ 42  30]\n",
      " [206  36]\n",
      " [198  26]\n",
      " [ 16   4]]\n"
     ]
    }
   ],
   "source": [
    "print(A+A) # Adding"
   ]
  },
  {
   "cell_type": "markdown",
   "metadata": {},
   "source": [
    "Scalar Multiplication"
   ]
  },
  {
   "cell_type": "code",
   "execution_count": null,
   "metadata": {},
   "outputs": [],
   "source": [
    "print(A*10)"
   ]
  },
  {
   "cell_type": "markdown",
   "metadata": {},
   "source": [
    "Transpose"
   ]
  },
  {
   "cell_type": "code",
   "execution_count": 28,
   "metadata": {},
   "outputs": [
    {
     "data": {
      "text/plain": [
       "array([[ 19,  21, 103,  99,   8],\n",
       "       [ 11,  15,  18,  13,   2]])"
      ]
     },
     "execution_count": 28,
     "metadata": {},
     "output_type": "execute_result"
    }
   ],
   "source": [
    "A.T"
   ]
  },
  {
   "cell_type": "markdown",
   "metadata": {},
   "source": [
    "### Data in Memory"
   ]
  },
  {
   "cell_type": "code",
   "execution_count": 19,
   "metadata": {},
   "outputs": [],
   "source": [
    "from lolviz import *"
   ]
  }
 ],
 "metadata": {
  "kernelspec": {
   "display_name": "Python 3",
   "language": "python",
   "name": "python3"
  },
  "language_info": {
   "codemirror_mode": {
    "name": "ipython",
    "version": 3
   },
   "file_extension": ".py",
   "mimetype": "text/x-python",
   "name": "python",
   "nbconvert_exporter": "python",
   "pygments_lexer": "ipython3",
   "version": "3.6.6"
  }
 },
 "nbformat": 4,
 "nbformat_minor": 2
}
